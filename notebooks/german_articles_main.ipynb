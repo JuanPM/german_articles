{
 "cells": [
  {
   "cell_type": "code",
   "execution_count": 19,
   "metadata": {},
   "outputs": [],
   "source": [
    "from src.data.make_dataset import fetch_url_to_txt  \n",
    "from src.data.make_dataset import txt_to_feature_df  \n",
    "from src.models.predict_model import gen_df_results\n",
    "from wordcloud import WordCloud\n",
    "import os"
   ]
  },
  {
   "cell_type": "code",
   "execution_count": 3,
   "metadata": {},
   "outputs": [],
   "source": [
    "url = 'http://frequencylists.blogspot.com/2016/01/the-2980-most-frequently-used-german.html'\n",
    "\n",
    "fetch_url_to_txt(url)"
   ]
  },
  {
   "cell_type": "code",
   "execution_count": 4,
   "metadata": {},
   "outputs": [],
   "source": [
    "txt_to_feature_df()"
   ]
  },
  {
   "cell_type": "code",
   "execution_count": 5,
   "metadata": {},
   "outputs": [],
   "source": [
    "df_results = gen_df_results()"
   ]
  },
  {
   "cell_type": "code",
   "execution_count": 26,
   "metadata": {},
   "outputs": [],
   "source": [
    "articles = df_results['class'].unique()\n",
    "for article in articles:\n",
    "    mask = df_results['class'] == article\n",
    "    final = df_results.loc[mask, :].sort_values('probabilities', \n",
    "    ascending = False).iloc[0:10, :]\n",
    "    path = '/Users/juanpablomejia/Desktop/german_articles/reports/figures_and_tables'\n",
    "    name = article + '_WordEndings.csv'\n",
    "    fullname = os.path.join(path, name)\n",
    "    final.to_csv(fullname)"
   ]
  },
  {
   "cell_type": "code",
   "execution_count": null,
   "metadata": {},
   "outputs": [],
   "source": []
  }
 ],
 "metadata": {
  "kernelspec": {
   "display_name": "Python 3",
   "language": "python",
   "name": "python3"
  },
  "language_info": {
   "codemirror_mode": {
    "name": "ipython",
    "version": 3
   },
   "file_extension": ".py",
   "mimetype": "text/x-python",
   "name": "python",
   "nbconvert_exporter": "python",
   "pygments_lexer": "ipython3",
   "version": "3.7.4"
  }
 },
 "nbformat": 4,
 "nbformat_minor": 2
}